{
 "cells": [
  {
   "cell_type": "markdown",
   "id": "13e30ecb",
   "metadata": {},
   "source": [
    "# Edit Distance, Assembly, and Overlaps\n",
    "\n",
    "Dynamic Program can be used to find approximate occurences of a pattern sequence (p) in a reference text (t). Here, an algorithm was developed to calculate minimum edit distances between sample DNA sequences and a genome. In addition, methods were developed to efficiently find overlaps within a set of sequencing reads."
   ]
  },
  {
   "cell_type": "code",
   "execution_count": 1,
   "id": "99e77293",
   "metadata": {},
   "outputs": [],
   "source": [
    "# First, writing a function to parse the genome file\n",
    "\n",
    "def readGenome(filename):\n",
    "    genome = ''\n",
    "    with open(filename, 'r') as f:\n",
    "        for line in f:\n",
    "            # ignore header line with genome information\n",
    "            if not line[0] == '>':\n",
    "                genome += line.rstrip()\n",
    "    return genome"
   ]
  },
  {
   "cell_type": "code",
   "execution_count": 3,
   "id": "17dc5edc",
   "metadata": {},
   "outputs": [],
   "source": [
    "# Genome parsing\n",
    "genome = readGenome('chr1.GRCh38.excerpt.fasta')"
   ]
  },
  {
   "cell_type": "code",
   "execution_count": 7,
   "id": "3bba5537",
   "metadata": {},
   "outputs": [],
   "source": [
    "# Writing function for calculating edit distances\n",
    "def editDistance(p, t):\n",
    "    ''' \n",
    "    Takes arguments p (pattern), t (text) and returns the edit distance of the best match between P and T\n",
    "    '''\n",
    "    # Create distance matrix\n",
    "    D = []\n",
    "    for i in range(len(p)+1):\n",
    "        D.append([0]*(len(t)+1))\n",
    "    # Initialize first row and column of matrix\n",
    "    for i in range(len(p)+1):\n",
    "        D[i][0] = i\n",
    "    for i in range(len(t)+1):\n",
    "        D[0][i] = 0\n",
    "    # Fill in the rest of the matrix\n",
    "    for i in range(1, len(p)+1):\n",
    "        for j in range(1, len(t)+1):\n",
    "            distHor = D[i][j-1] + 1\n",
    "            distVer = D[i-1][j] + 1\n",
    "            if p[i-1] == t[j-1]:\n",
    "                distDiag = D[i-1][j-1]\n",
    "            else:\n",
    "                distDiag = D[i-1][j-1] + 1\n",
    "            D[i][j] = min(distHor, distVer, distDiag)\n",
    "    # Edit distance is the minimum value in the bottom row of the matrix\n",
    "    return min(D[-1])\n"
   ]
  },
  {
   "cell_type": "markdown",
   "id": "aed62743",
   "metadata": {},
   "source": [
    "Testing the algorithm on sample sequences below"
   ]
  },
  {
   "cell_type": "code",
   "execution_count": 10,
   "id": "656b3830",
   "metadata": {},
   "outputs": [
    {
     "data": {
      "text/plain": [
       "2"
      ]
     },
     "execution_count": 10,
     "metadata": {},
     "output_type": "execute_result"
    }
   ],
   "source": [
    "p = 'GCGTATGC'\n",
    "t = 'TATTGGCTATACGGTT'\n",
    "editDistance(p,t)"
   ]
  },
  {
   "cell_type": "code",
   "execution_count": 11,
   "id": "18f8f6c9",
   "metadata": {},
   "outputs": [
    {
     "data": {
      "text/plain": [
       "3"
      ]
     },
     "execution_count": 11,
     "metadata": {},
     "output_type": "execute_result"
    }
   ],
   "source": [
    "p = 'GCTGATCGATCGTACG'\n",
    "t = genome\n",
    "editDistance(p,t)"
   ]
  },
  {
   "cell_type": "code",
   "execution_count": 12,
   "id": "f424eb94",
   "metadata": {},
   "outputs": [
    {
     "data": {
      "text/plain": [
       "2"
      ]
     },
     "execution_count": 12,
     "metadata": {},
     "output_type": "execute_result"
    }
   ],
   "source": [
    "p = 'GATTTACCAGATTGAG'\n",
    "t = genome\n",
    "editDistance(p,t)"
   ]
  },
  {
   "cell_type": "code",
   "execution_count": 13,
   "id": "83b02cee",
   "metadata": {},
   "outputs": [],
   "source": [
    "# Writing a function to calculate overlaps\n",
    "\n",
    "def overlap(a, b, min_length=3):\n",
    "    \"\"\" Return length of longest suffix of 'a' matching\n",
    "        a prefix of 'b' that is at least 'min_length'\n",
    "        characters long.  If no such overlap exists,\n",
    "        return 0. \"\"\"\n",
    "    start = 0  # start all the way at the left\n",
    "    while True:\n",
    "        start = a.find(b[:min_length], start)  # look for b's prefix in a\n",
    "        if start == -1:  # no more occurrences to right\n",
    "            return 0\n",
    "        # found occurrence; check for full suffix/prefix match\n",
    "        if b.startswith(a[start:]):\n",
    "            return len(a)-start\n",
    "        start += 1  # move just past previous match"
   ]
  },
  {
   "cell_type": "code",
   "execution_count": 130,
   "id": "58a2e5dd",
   "metadata": {},
   "outputs": [],
   "source": [
    "# Writing a function to read the sequencing read fastq file\n",
    "\n",
    "def readReads(filename):\n",
    "    with open(filename, 'r') as f:\n",
    "        reads = []\n",
    "        read = ''\n",
    "        for line in f:\n",
    "            if line[0] == '@':\n",
    "                if read != '':\n",
    "                    reads.append(read)\n",
    "                read = ''\n",
    "                \n",
    "            else:\n",
    "                read += line.rstrip()\n",
    "    reads = list(map(lambda x: x.split('+')[0], reads))\n",
    "    return reads"
   ]
  },
  {
   "cell_type": "code",
   "execution_count": 154,
   "id": "75be3d72",
   "metadata": {},
   "outputs": [],
   "source": [
    "# reading the fastq file\n",
    "reads = readReads('ERR266411_1.for_asm.fastq')"
   ]
  },
  {
   "cell_type": "code",
   "execution_count": 81,
   "id": "24689e8d",
   "metadata": {},
   "outputs": [],
   "source": [
    "from itertools import permutations"
   ]
  },
  {
   "cell_type": "markdown",
   "id": "bb599e5d",
   "metadata": {},
   "source": [
    "# Overlaps\n",
    "The goal of the next section is to find overlaps of minimum size k-mer within the set of sequencing reads parsed above. Unfortunately, one can't simply call overlaps() on every pair of reads, because that would be extremeley slow. Instead, I'll create a set of k-mers and add in every read that contains each k-mer. This can then be used as an index to find overlaps."
   ]
  },
  {
   "cell_type": "code",
   "execution_count": 150,
   "id": "8d8df8d5",
   "metadata": {},
   "outputs": [],
   "source": [
    "\n",
    "def overlap_all_pairs(reads, k):\n",
    "#     making a kmer_dict that contains reads that correspond to each kmer\n",
    "    kmer_dict = {}\n",
    "    for read in reads:\n",
    "        for i in range(len(read)-k+1):\n",
    "            kmer = read[i:i+k]\n",
    "            if kmer in kmer_dict:\n",
    "                kmer_dict[kmer].add(read)\n",
    "            else:\n",
    "                kmer_dict[kmer] = set([read])\n",
    "#     finding overlaps for each read\n",
    "    olaps = {}\n",
    "    for read in reads:\n",
    "        read_suffix = read[-k:]\n",
    "        potential_overlaps = kmer_dict[read_suffix]\n",
    "        for possible_pair in potential_overlaps:\n",
    "            olen = overlap(read, possible_pair, min_length=k)\n",
    "            if olen > 0 and read != possible_pair:\n",
    "                olaps[(read,possible_pair)] = olen\n",
    "    return olaps  "
   ]
  },
  {
   "cell_type": "code",
   "execution_count": 151,
   "id": "2a9c4e58",
   "metadata": {},
   "outputs": [],
   "source": [
    "olaps = overlap_all_pairs(reads, 30)"
   ]
  },
  {
   "cell_type": "code",
   "execution_count": 152,
   "id": "64592d68",
   "metadata": {},
   "outputs": [
    {
     "data": {
      "text/plain": [
       "904640"
      ]
     },
     "execution_count": 152,
     "metadata": {},
     "output_type": "execute_result"
    }
   ],
   "source": [
    "len(olaps)"
   ]
  },
  {
   "cell_type": "code",
   "execution_count": 153,
   "id": "7dc82010",
   "metadata": {},
   "outputs": [
    {
     "data": {
      "text/plain": [
       "904640"
      ]
     },
     "execution_count": 153,
     "metadata": {},
     "output_type": "execute_result"
    }
   ],
   "source": [
    "len(set(olaps))"
   ]
  },
  {
   "cell_type": "code",
   "execution_count": 149,
   "id": "852822cf",
   "metadata": {},
   "outputs": [
    {
     "data": {
      "text/plain": [
       "7160"
      ]
     },
     "execution_count": 149,
     "metadata": {},
     "output_type": "execute_result"
    }
   ],
   "source": [
    "len(set([pair[0] for pair in olaps]))"
   ]
  },
  {
   "cell_type": "markdown",
   "id": "b8b73e4f",
   "metadata": {},
   "source": [
    "The algorithms above successfully finds the total number of overlaps and unique overlaps in the set of reads using a set kmer size."
   ]
  }
 ],
 "metadata": {
  "kernelspec": {
   "display_name": "Python 3",
   "language": "python",
   "name": "python3"
  },
  "language_info": {
   "codemirror_mode": {
    "name": "ipython",
    "version": 3
   },
   "file_extension": ".py",
   "mimetype": "text/x-python",
   "name": "python",
   "nbconvert_exporter": "python",
   "pygments_lexer": "ipython3",
   "version": "3.8.8"
  }
 },
 "nbformat": 4,
 "nbformat_minor": 5
}
