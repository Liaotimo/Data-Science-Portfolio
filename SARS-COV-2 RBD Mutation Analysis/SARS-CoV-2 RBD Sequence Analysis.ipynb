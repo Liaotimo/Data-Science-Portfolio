{
 "cells": [
  {
   "cell_type": "code",
   "execution_count": 10,
   "metadata": {},
   "outputs": [],
   "source": [
    "import pandas as pd\n",
    "import numpy as np\n",
    "from Bio.Seq import Seq\n",
    "from Bio.SeqRecord import SeqRecord\n",
    "from Bio import SeqIO"
   ]
  },
  {
   "cell_type": "code",
   "execution_count": 2,
   "metadata": {},
   "outputs": [
    {
     "data": {
      "text/html": [
       "<div>\n",
       "<style scoped>\n",
       "    .dataframe tbody tr th:only-of-type {\n",
       "        vertical-align: middle;\n",
       "    }\n",
       "\n",
       "    .dataframe tbody tr th {\n",
       "        vertical-align: top;\n",
       "    }\n",
       "\n",
       "    .dataframe thead th {\n",
       "        text-align: right;\n",
       "    }\n",
       "</style>\n",
       "<table border=\"1\" class=\"dataframe\">\n",
       "  <thead>\n",
       "    <tr style=\"text-align: right;\">\n",
       "      <th></th>\n",
       "      <th>Sequence</th>\n",
       "      <th>Ligand</th>\n",
       "      <th>Data</th>\n",
       "      <th>Units</th>\n",
       "      <th>Assay/Protocol</th>\n",
       "    </tr>\n",
       "  </thead>\n",
       "  <tbody>\n",
       "    <tr>\n",
       "      <th>0</th>\n",
       "      <td>NITNLCPFGEVFNATRFASVYAWNRKRISNCVADYSVLYNSASFST...</td>\n",
       "      <td>NaN</td>\n",
       "      <td>-0.14</td>\n",
       "      <td>unitless</td>\n",
       "      <td>expr_lib1</td>\n",
       "    </tr>\n",
       "    <tr>\n",
       "      <th>1</th>\n",
       "      <td>AITNLCPFGEVFNATRFASVYAWNRKRISNCVADYSVLYNSASFST...</td>\n",
       "      <td>NaN</td>\n",
       "      <td>-0.14</td>\n",
       "      <td>unitless</td>\n",
       "      <td>expr_lib1</td>\n",
       "    </tr>\n",
       "    <tr>\n",
       "      <th>2</th>\n",
       "      <td>AITNLCPFGEVFNATRFASVYAWNRKRISNCVADYSVLYNSASFST...</td>\n",
       "      <td>NaN</td>\n",
       "      <td>-0.11</td>\n",
       "      <td>unitless</td>\n",
       "      <td>expr_avg</td>\n",
       "    </tr>\n",
       "    <tr>\n",
       "      <th>3</th>\n",
       "      <td>AITNLCPFGEVFNATRFASVYAWNRKRISNCVADYSVLYNSASFST...</td>\n",
       "      <td>NaN</td>\n",
       "      <td>-0.08</td>\n",
       "      <td>unitless</td>\n",
       "      <td>expr_lib2</td>\n",
       "    </tr>\n",
       "    <tr>\n",
       "      <th>4</th>\n",
       "      <td>AITNLCPFGEVFNATRFASVYAWNRKRISNCVADYSVLYNSASFST...</td>\n",
       "      <td>NaN</td>\n",
       "      <td>-0.05</td>\n",
       "      <td>unitless</td>\n",
       "      <td>bind_lib1</td>\n",
       "    </tr>\n",
       "  </tbody>\n",
       "</table>\n",
       "</div>"
      ],
      "text/plain": [
       "                                            Sequence  Ligand  Data     Units  \\\n",
       "0  NITNLCPFGEVFNATRFASVYAWNRKRISNCVADYSVLYNSASFST...     NaN -0.14  unitless   \n",
       "1  AITNLCPFGEVFNATRFASVYAWNRKRISNCVADYSVLYNSASFST...     NaN -0.14  unitless   \n",
       "2  AITNLCPFGEVFNATRFASVYAWNRKRISNCVADYSVLYNSASFST...     NaN -0.11  unitless   \n",
       "3  AITNLCPFGEVFNATRFASVYAWNRKRISNCVADYSVLYNSASFST...     NaN -0.08  unitless   \n",
       "4  AITNLCPFGEVFNATRFASVYAWNRKRISNCVADYSVLYNSASFST...     NaN -0.05  unitless   \n",
       "\n",
       "  Assay/Protocol  \n",
       "0      expr_lib1  \n",
       "1      expr_lib1  \n",
       "2       expr_avg  \n",
       "3      expr_lib2  \n",
       "4      bind_lib1  "
      ]
     },
     "execution_count": 2,
     "metadata": {},
     "output_type": "execute_result"
    }
   ],
   "source": [
    "df = pd.read_csv('SARS-CoV-2 RBD data.csv')\n",
    "df.head()"
   ]
  },
  {
   "cell_type": "code",
   "execution_count": 3,
   "metadata": {},
   "outputs": [],
   "source": [
    "# Reading the first row as template sequence and saving as SeqRecord\n",
    "template_seq = Seq(df.iloc[0,:]['Sequence'])\n",
    "template = SeqRecord(\n",
    "    template_seq,\n",
    "    name='SARS-CoV-2 RBD Template',\n",
    "    description='Parental sequence for RBD mutagenesis'\n",
    ")\n"
   ]
  },
  {
   "cell_type": "code",
   "execution_count": 4,
   "metadata": {},
   "outputs": [
    {
     "data": {
      "text/plain": [
       "array([201], dtype=int64)"
      ]
     },
     "execution_count": 4,
     "metadata": {},
     "output_type": "execute_result"
    }
   ],
   "source": [
    "# Checking lengths of sequences to see if sequences are aligned or contain indels\n",
    "mutants_df = df.iloc[1:, :].copy()\n",
    "mutants_df.loc[:,'Sequence'].apply(len).unique()\n",
    "# all sequences are 201 bp so likely only substitutions in this data\n",
    "\n"
   ]
  },
  {
   "cell_type": "code",
   "execution_count": 5,
   "metadata": {},
   "outputs": [],
   "source": [
    "# Define a function to find substitution\n",
    "def sub_finder(seq):\n",
    "    mutations = []\n",
    "    for idx, aa in enumerate(seq):\n",
    "        template_aa = template.seq[idx]\n",
    "        \n",
    "        if aa == template_aa:\n",
    "            pass\n",
    "        else:\n",
    "            sub = template_aa + str(idx+1) + aa\n",
    "            mutations.append(sub)\n",
    "    if len(mutations)==1:\n",
    "        return str(mutations[0])\n",
    "    else:\n",
    "        return str(mutations)"
   ]
  },
  {
   "cell_type": "code",
   "execution_count": 6,
   "metadata": {},
   "outputs": [],
   "source": [
    "# Create a new column for substitutions\n",
    "mutants_df['Substitution'] = mutants_df['Sequence'].apply(sub_finder)\n"
   ]
  },
  {
   "cell_type": "code",
   "execution_count": 35,
   "metadata": {},
   "outputs": [],
   "source": [
    "# Creating seq record for each variant sequence\n",
    "seq_lst = mutants_df['Sequence'].tolist()\n",
    "sub_lst = mutants_df['Substitution'].tolist()\n",
    "\n",
    "seq_record_lst = []\n",
    "for idx, sequence in enumerate(seq_lst):\n",
    "    sub = sub_lst[idx]\n",
    "    seq_rec = SeqRecord(seq=Seq(sequence),\n",
    "                        name='Variant_'+str(idx+1),\n",
    "                        id = 'RBD_' + sub,\n",
    "                        description='Mutant variant of SARS-CoV-2 RBD'\n",
    "                       )\n",
    "    seq_record_lst.append(seq_rec)"
   ]
  },
  {
   "cell_type": "code",
   "execution_count": 45,
   "metadata": {},
   "outputs": [
    {
     "name": "stdout",
     "output_type": "stream",
     "text": [
      "ID: RBD_N1A\n",
      "Name: Variant_1\n",
      "Description: Mutant variant of SARS-CoV-2 RBD\n",
      "Number of features: 0\n",
      "Seq('AITNLCPFGEVFNATRFASVYAWNRKRISNCVADYSVLYNSASFSTFKCYGVSP...KST')\n",
      "\n",
      "\n",
      "ID: RBD_V20H\n",
      "Name: Variant_1001\n",
      "Description: Mutant variant of SARS-CoV-2 RBD\n",
      "Number of features: 0\n",
      "Seq('NITNLCPFGEVFNATRFASHYAWNRKRISNCVADYSVLYNSASFSTFKCYGVSP...KST')\n",
      "\n",
      "\n",
      "ID: RBD_S36A\n",
      "Name: Variant_2001\n",
      "Description: Mutant variant of SARS-CoV-2 RBD\n",
      "Number of features: 0\n",
      "Seq('NITNLCPFGEVFNATRFASVYAWNRKRISNCVADYAVLYNSASFSTFKCYGVSP...KST')\n",
      "\n",
      "\n",
      "ID: RBD_Y50W\n",
      "Name: Variant_3001\n",
      "Description: Mutant variant of SARS-CoV-2 RBD\n",
      "Number of features: 0\n",
      "Seq('NITNLCPFGEVFNATRFASVYAWNRKRISNCVADYSVLYNSASFSTFKCWGVSP...KST')\n",
      "\n",
      "\n",
      "ID: RBD_Y66P\n",
      "Name: Variant_4001\n",
      "Description: Mutant variant of SARS-CoV-2 RBD\n",
      "Number of features: 0\n",
      "Seq('NITNLCPFGEVFNATRFASVYAWNRKRISNCVADYSVLYNSASFSTFKCYGVSP...KST')\n",
      "\n",
      "\n"
     ]
    }
   ],
   "source": [
    "# Checking some samples from the record list\n",
    "for rec in seq_record_lst[:5000:1000]:\n",
    "    print(rec)\n",
    "    print('\\n')"
   ]
  },
  {
   "cell_type": "code",
   "execution_count": 34,
   "metadata": {},
   "outputs": [],
   "source": [
    "# Writing to fasta file\n",
    "with open(\"SARS-CoV-2 RBD Variants.fasta\", \"w\") as output_handle:\n",
    "    SeqIO.write(seq_record_lst, output_handle, 'fasta')"
   ]
  }
 ],
 "metadata": {
  "kernelspec": {
   "display_name": "Python 3",
   "language": "python",
   "name": "python3"
  },
  "language_info": {
   "codemirror_mode": {
    "name": "ipython",
    "version": 3
   },
   "file_extension": ".py",
   "mimetype": "text/x-python",
   "name": "python",
   "nbconvert_exporter": "python",
   "pygments_lexer": "ipython3",
   "version": "3.8.5"
  }
 },
 "nbformat": 4,
 "nbformat_minor": 4
}
