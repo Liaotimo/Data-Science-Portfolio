{
 "cells": [
  {
   "cell_type": "markdown",
   "id": "8dfc5696",
   "metadata": {},
   "source": [
    "# Algorithms for Sequence Assembly\n",
    "\n",
    "The shortest common superstring algorithm is developed and implemented for assembly of DNA sequences."
   ]
  },
  {
   "cell_type": "code",
   "execution_count": 1,
   "id": "9330ec61",
   "metadata": {},
   "outputs": [],
   "source": [
    "import itertools"
   ]
  },
  {
   "cell_type": "code",
   "execution_count": 2,
   "id": "31e2c8df",
   "metadata": {},
   "outputs": [],
   "source": [
    "def overlap(a, b, min_length=3):\n",
    "    \"\"\" Return length of longest suffix of 'a' matching\n",
    "        a prefix of 'b' that is at least 'min_length'\n",
    "        characters long.  If no such overlap exists,\n",
    "        return 0. \"\"\"\n",
    "    start = 0  # start all the way at the left\n",
    "    while True:\n",
    "        start = a.find(b[:min_length], start)  # look for b's suffx in a\n",
    "        if start == -1:  # no more occurrences to right\n",
    "            return 0\n",
    "        # found occurrence; check for full suffix/prefix match\n",
    "        if b.startswith(a[start:]):\n",
    "            return len(a)-start\n",
    "        start += 1  # move just past previous match\n",
    "\n",
    "\n",
    "def scs(ss):\n",
    "    \"\"\" Returns shortest common superstring of given\n",
    "        strings, which must be the same length \"\"\"\n",
    "    shortest_sup = None\n",
    "    for ssperm in itertools.permutations(ss):\n",
    "        sup = ssperm[0]  # superstring starts as first string\n",
    "        for i in range(len(ss)-1):\n",
    "            # overlap adjacent strings A and B in the permutation\n",
    "            olen = overlap(ssperm[i], ssperm[i+1], min_length=1)\n",
    "            # add non-overlapping portion of B to superstring\n",
    "            sup += ssperm[i+1][olen:]\n",
    "        if shortest_sup is None or len(sup) < len(shortest_sup):\n",
    "            shortest_sup = sup  # found shorter superstring\n",
    "    return shortest_sup  # return shortest"
   ]
  },
  {
   "cell_type": "code",
   "execution_count": 3,
   "id": "af2f70cc",
   "metadata": {},
   "outputs": [
    {
     "data": {
      "text/plain": [
       "11"
      ]
     },
     "execution_count": 3,
     "metadata": {},
     "output_type": "execute_result"
    }
   ],
   "source": [
    "len(scs(['CCT', 'CTT', 'TGC', 'TGG', 'GAT', 'ATT']))"
   ]
  },
  {
   "cell_type": "code",
   "execution_count": 4,
   "id": "5d14d27e",
   "metadata": {},
   "outputs": [],
   "source": [
    "def scs_count(ss):\n",
    "    \"\"\" Returns shortest common superstring of given\n",
    "        strings, which must be the same length \"\"\"\n",
    "    shortest_sup = None\n",
    "    for ssperm in itertools.permutations(ss):\n",
    "        sup = ssperm[0]  # superstring starts as first string\n",
    "        for i in range(len(ss)-1):\n",
    "            # overlap adjacent strings A and B in the permutation\n",
    "            olen = overlap(ssperm[i], ssperm[i+1], min_length=1)\n",
    "            # add non-overlapping portion of B to superstring\n",
    "            sup += ssperm[i+1][olen:]\n",
    "        if shortest_sup is None or len(sup) < len(shortest_sup):\n",
    "            shortest_sup = sup  # found shorter superstring\n",
    "            num_shortest_sup = 1\n",
    "        elif len(sup) == len(shortest_sup):\n",
    "            num_shortest_sup +=1 # found another superstring equal to the current shortest superstring\n",
    "    return shortest_sup, num_shortest_sup  # return shortest"
   ]
  },
  {
   "cell_type": "markdown",
   "id": "0562a0ec",
   "metadata": {},
   "source": [
    "Testing out assembly with shortest common superstring below"
   ]
  },
  {
   "cell_type": "code",
   "execution_count": 5,
   "id": "260c463d",
   "metadata": {},
   "outputs": [
    {
     "data": {
      "text/plain": [
       "('ABCAB', 3)"
      ]
     },
     "execution_count": 5,
     "metadata": {},
     "output_type": "execute_result"
    }
   ],
   "source": [
    "strings = ['ABC', 'BCA', 'CAB']\n",
    "scs_count(strings)"
   ]
  },
  {
   "cell_type": "code",
   "execution_count": 6,
   "id": "17f8f8c5",
   "metadata": {},
   "outputs": [
    {
     "data": {
      "text/plain": [
       "('TCGATGCAATAG', 10)"
      ]
     },
     "execution_count": 6,
     "metadata": {},
     "output_type": "execute_result"
    }
   ],
   "source": [
    "strings = ['GAT', 'TAG', 'TCG', 'TGC', 'AAT', 'ATA']\n",
    "scs_count(strings)"
   ]
  },
  {
   "cell_type": "code",
   "execution_count": 7,
   "id": "3f6e35ae",
   "metadata": {},
   "outputs": [
    {
     "data": {
      "text/plain": [
       "('CCTTGGATTGC', 4)"
      ]
     },
     "execution_count": 7,
     "metadata": {},
     "output_type": "execute_result"
    }
   ],
   "source": [
    "strings = ['CCT', 'CTT', 'TGC', 'TGG', 'GAT', 'ATT']\n",
    "scs_count(strings)"
   ]
  },
  {
   "cell_type": "code",
   "execution_count": 8,
   "id": "180f15d1",
   "metadata": {},
   "outputs": [],
   "source": [
    "def pick_maximal_overlap(reads, k):\n",
    "    reada, readb = None, None\n",
    "    best_olen = 0\n",
    "    for a,b in itertools.permutations(reads, 2):\n",
    "        olen = overlap(a, b, min_length = k)\n",
    "        if olen > best_olen:\n",
    "            reada, readb = a, b\n",
    "            best_olen = olen\n",
    "    return reada, readb, best_olen            "
   ]
  },
  {
   "cell_type": "code",
   "execution_count": 9,
   "id": "4cebf119",
   "metadata": {},
   "outputs": [],
   "source": [
    "def greedy_scs(reads, k):\n",
    "    read_a, read_b, olen = pick_maximal_overlap(reads, k)\n",
    "    while olen > 0:\n",
    "        reads.remove(read_a)\n",
    "        reads.remove(read_b)\n",
    "        reads.append(read_a + read_b[olen:])\n",
    "        read_a, read_b, olen = pick_maximal_overlap(reads, k)\n",
    "    return ''.join(reads)                     "
   ]
  },
  {
   "cell_type": "code",
   "execution_count": 10,
   "id": "8f27aebd",
   "metadata": {},
   "outputs": [
    {
     "data": {
      "text/plain": [
       "'CABCA'"
      ]
     },
     "execution_count": 10,
     "metadata": {},
     "output_type": "execute_result"
    }
   ],
   "source": [
    "greedy_scs(['ABC', 'BCA', 'CAB'], 2)"
   ]
  },
  {
   "cell_type": "code",
   "execution_count": 11,
   "id": "a7c1ba9b",
   "metadata": {},
   "outputs": [],
   "source": [
    "def readReads(filename):\n",
    "    with open(filename, 'r') as f:\n",
    "        reads = []\n",
    "        read = ''\n",
    "        for line in f:\n",
    "            if line[0] == '@':\n",
    "                if read != '':\n",
    "                    reads.append(read)\n",
    "                read = ''\n",
    "                \n",
    "            else:\n",
    "                read += line.rstrip()\n",
    "        reads.append(read)\n",
    "    reads = list(map(lambda x: x.split('+')[0], reads))\n",
    "    return reads"
   ]
  },
  {
   "cell_type": "code",
   "execution_count": 12,
   "id": "fc2bcfa5",
   "metadata": {},
   "outputs": [],
   "source": [
    "reads = readReads('ads1_week4_reads.fq')"
   ]
  },
  {
   "cell_type": "code",
   "execution_count": 13,
   "id": "7885db4e",
   "metadata": {},
   "outputs": [
    {
     "data": {
      "text/plain": [
       "1881"
      ]
     },
     "execution_count": 13,
     "metadata": {},
     "output_type": "execute_result"
    }
   ],
   "source": [
    "len(reads)"
   ]
  },
  {
   "cell_type": "code",
   "execution_count": 14,
   "id": "0aa94757",
   "metadata": {},
   "outputs": [],
   "source": [
    "def greedy_scs(reads, k):\n",
    "    read_a, read_b, olen = pick_maximal_overlap(reads, k)\n",
    "    while olen > 0:\n",
    "        reads.remove(read_a)\n",
    "        reads.remove(read_b)\n",
    "        reads.append(read_a + read_b[olen:])\n",
    "        read_a, read_b, olen = pick_maximal_overlap(reads, k)\n",
    "    return ''.join(reads)    "
   ]
  },
  {
   "cell_type": "code",
   "execution_count": 15,
   "id": "b4bc7456",
   "metadata": {},
   "outputs": [],
   "source": [
    "def pick_max_overlap_faster(reads, k):\n",
    "    reada, readb = None, None\n",
    "    best_olen = 0\n",
    "    kmer_dict = {}\n",
    "    for read in reads:\n",
    "        for i in range(len(read)-k+1):\n",
    "            kmer = read[i:i+k]\n",
    "            if kmer in kmer_dict:\n",
    "                kmer_dict[kmer].add(read)\n",
    "            else:\n",
    "                kmer_dict[kmer] = set([read])\n",
    "#     finding overlaps for each read\n",
    "    for read in reads:\n",
    "        read_suffix = read[-k:]\n",
    "        potential_overlaps = kmer_dict[read_suffix]\n",
    "        for possible_pair in potential_overlaps:\n",
    "            olen = overlap(read, possible_pair, min_length=k)\n",
    "            if olen > best_olen and read != possible_pair:\n",
    "                reada = read\n",
    "                readb = possible_pair\n",
    "                best_olen = olen\n",
    "    return reada, readb, best_olen"
   ]
  },
  {
   "cell_type": "code",
   "execution_count": 16,
   "id": "99ca68d0",
   "metadata": {},
   "outputs": [],
   "source": [
    "def greedy_scs_faster(reads, k):\n",
    "    read_a, read_b, olen = pick_max_overlap_faster(reads, k)\n",
    "    while olen > 0:\n",
    "        reads.remove(read_a)\n",
    "        reads.remove(read_b)\n",
    "        reads.append(read_a + read_b[olen:])\n",
    "        read_a, read_b, olen = pick_max_overlap_faster(reads, k)\n",
    "    return ''.join(reads)   "
   ]
  },
  {
   "cell_type": "code",
   "execution_count": 17,
   "id": "1c3d532d",
   "metadata": {},
   "outputs": [],
   "source": [
    "greedy_scs_results = greedy_scs_faster(reads, 20)"
   ]
  },
  {
   "cell_type": "code",
   "execution_count": 18,
   "id": "7b0402e7",
   "metadata": {},
   "outputs": [
    {
     "name": "stdout",
     "output_type": "stream",
     "text": [
      "ACCAAACAAAGTTGGGTAAGGATAGATCAATCAATGATCATATTCTAGTACACTTAGGATTCAAGATCCTATTATCAGGGACAAGAGCAGGATTAGGGATATCCGAGATGGCCACACTTTTGAGGAGCTTAGCATTGTTCAAAAGAAACAAGGACAAACCACCCATTACATCAGGATCCGGTGGAGCCATCAGAGGAATC\n"
     ]
    }
   ],
   "source": [
    "print(greedy_scs_results[:200])"
   ]
  },
  {
   "cell_type": "code",
   "execution_count": 19,
   "id": "d22be51b",
   "metadata": {},
   "outputs": [
    {
     "name": "stdout",
     "output_type": "stream",
     "text": [
      "15894\n"
     ]
    }
   ],
   "source": [
    "print(len(greedy_scs_results))"
   ]
  },
  {
   "cell_type": "code",
   "execution_count": 20,
   "id": "81734d6d",
   "metadata": {},
   "outputs": [
    {
     "name": "stdout",
     "output_type": "stream",
     "text": [
      "4633\n"
     ]
    }
   ],
   "source": [
    "a_count = 0\n",
    "for char in greedy_scs_results:\n",
    "    if char == 'A' or char =='a':\n",
    "        a_count += 1\n",
    "print(a_count)\n"
   ]
  },
  {
   "cell_type": "code",
   "execution_count": 21,
   "id": "783a547f",
   "metadata": {},
   "outputs": [
    {
     "name": "stdout",
     "output_type": "stream",
     "text": [
      "3723\n"
     ]
    }
   ],
   "source": [
    "t_count = 0\n",
    "for char in greedy_scs_results:\n",
    "    if char == 't' or char =='T':\n",
    "        t_count += 1\n",
    "print(t_count)"
   ]
  }
 ],
 "metadata": {
  "kernelspec": {
   "display_name": "Python 3",
   "language": "python",
   "name": "python3"
  },
  "language_info": {
   "codemirror_mode": {
    "name": "ipython",
    "version": 3
   },
   "file_extension": ".py",
   "mimetype": "text/x-python",
   "name": "python",
   "nbconvert_exporter": "python",
   "pygments_lexer": "ipython3",
   "version": "3.8.8"
  }
 },
 "nbformat": 4,
 "nbformat_minor": 5
}
